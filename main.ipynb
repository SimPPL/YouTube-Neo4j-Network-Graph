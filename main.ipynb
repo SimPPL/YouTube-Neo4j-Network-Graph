{
 "cells": [
  {
   "cell_type": "code",
   "execution_count": 1,
   "metadata": {},
   "outputs": [],
   "source": [
    "from py2neo import Graph, Node, Relationship\n",
    "import pandas as pd"
   ]
  },
  {
   "cell_type": "code",
   "execution_count": 2,
   "metadata": {},
   "outputs": [],
   "source": [
    "comments_within_2_minutes = pd.read_csv(\"comments_within_2_minutes.csv\")"
   ]
  },
  {
   "cell_type": "code",
   "execution_count": 3,
   "metadata": {},
   "outputs": [
    {
     "data": {
      "text/plain": [
       "(11390, 27)"
      ]
     },
     "execution_count": 3,
     "metadata": {},
     "output_type": "execute_result"
    }
   ],
   "source": [
    "comments_within_2_minutes.shape"
   ]
  },
  {
   "cell_type": "code",
   "execution_count": 9,
   "metadata": {},
   "outputs": [
    {
     "data": {
      "text/plain": [
       "Index(['channel_id', 'channel_title', 'playlist_id', 'video_id', 'category_id',\n",
       "       'video_published_at', 'title', 'description', 'thumbnail', 'view_count',\n",
       "       'like_count_x', 'favorite_count', 'comment_count', 'tags', 'comment_id',\n",
       "       'parent_id', 'comment_text', 'author_name', 'author_channel_id',\n",
       "       'author_url', 'comment_published_at', 'can_rate', 'can_reply',\n",
       "       'like_count_y', 'reply_count', 'is_public', 'time_difference'],\n",
       "      dtype='object')"
      ]
     },
     "execution_count": 9,
     "metadata": {},
     "output_type": "execute_result"
    }
   ],
   "source": [
    "comments_within_2_minutes.columns"
   ]
  },
  {
   "cell_type": "code",
   "execution_count": 12,
   "metadata": {},
   "outputs": [],
   "source": [
    "# drop null and nan values in comment_id column\n",
    "comments_within_2_minutes = comments_within_2_minutes[comments_within_2_minutes['comment_id'].notna()]"
   ]
  },
  {
   "cell_type": "code",
   "execution_count": 14,
   "metadata": {},
   "outputs": [],
   "source": [
    "graph = Graph(\"bolt://localhost:7687\", auth=(\"neo4j\", \"password\"))"
   ]
  },
  {
   "cell_type": "code",
   "execution_count": 15,
   "metadata": {},
   "outputs": [],
   "source": [
    "for index, row in comments_within_2_minutes.iterrows():\n",
    "    \n",
    "    # channel node and relationship\n",
    "    channel_node = Node(\n",
    "        \"Channel\", channel_id=row[\"channel_id\"], channel_title=row[\"channel_title\"]\n",
    "    )\n",
    "    graph.merge(channel_node, \"Channel\", \"channel_id\")\n",
    "\n",
    "    # video node and relationship\n",
    "    video_node = Node(\n",
    "        \"Video\",\n",
    "        video_id=row[\"video_id\"],\n",
    "        view_count=row[\"view_count\"],\n",
    "        like_count=row[\"like_count_x\"],\n",
    "    )\n",
    "    graph.merge(video_node, \"Video\", \"video_id\")\n",
    "    relationship_channel_video = Relationship(channel_node, \"POSTED\", video_node)\n",
    "    graph.merge(relationship_channel_video, \"Channel\", \"channel_id\")\n",
    "\n",
    "    # comment node and relationship\n",
    "    comment_node = Node(\n",
    "        \"Comment\", comment_id=row[\"comment_id\"], comment_text=row[\"comment_text\"]\n",
    "    )\n",
    "    graph.merge(comment_node, \"Comment\", \"comment_id\")\n",
    "    relationship_video_comment = Relationship(video_node, \"HAS_COMMENT\", comment_node)\n",
    "    graph.merge(relationship_video_comment, \"Video\", \"video_id\")"
   ]
  },
  {
   "cell_type": "code",
   "execution_count": null,
   "metadata": {},
   "outputs": [],
   "source": []
  }
 ],
 "metadata": {
  "kernelspec": {
   "display_name": "Python 3",
   "language": "python",
   "name": "python3"
  },
  "language_info": {
   "codemirror_mode": {
    "name": "ipython",
    "version": 3
   },
   "file_extension": ".py",
   "mimetype": "text/x-python",
   "name": "python",
   "nbconvert_exporter": "python",
   "pygments_lexer": "ipython3",
   "version": "3.8.10"
  }
 },
 "nbformat": 4,
 "nbformat_minor": 2
}
