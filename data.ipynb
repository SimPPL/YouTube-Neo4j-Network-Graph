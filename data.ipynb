{
 "cells": [
  {
   "cell_type": "code",
   "execution_count": 1,
   "id": "0fe1bc32-885c-4766-b92a-b25b6968b1c8",
   "metadata": {
    "tags": []
   },
   "outputs": [],
   "source": [
    "import pandas as pd"
   ]
  },
  {
   "cell_type": "code",
   "execution_count": 2,
   "id": "1f9a3954-a3b3-4337-bd92-0df83af7e753",
   "metadata": {
    "tags": []
   },
   "outputs": [],
   "source": [
    "videos_df = pd.read_csv('../plots/russia_ukraine_videos.csv')"
   ]
  },
  {
   "cell_type": "code",
   "execution_count": 4,
   "id": "9d5a9ac6-eccd-4492-9929-e623533965bf",
   "metadata": {
    "tags": []
   },
   "outputs": [
    {
     "data": {
      "text/plain": [
       "(2590, 14)"
      ]
     },
     "execution_count": 4,
     "metadata": {},
     "output_type": "execute_result"
    }
   ],
   "source": [
    "videos_df.shape"
   ]
  },
  {
   "cell_type": "code",
   "execution_count": 5,
   "id": "c6e33d8a-8e0e-4f70-adde-1e3fa840b837",
   "metadata": {
    "tags": []
   },
   "outputs": [
    {
     "data": {
      "text/html": [
       "<div>\n",
       "<style scoped>\n",
       "    .dataframe tbody tr th:only-of-type {\n",
       "        vertical-align: middle;\n",
       "    }\n",
       "\n",
       "    .dataframe tbody tr th {\n",
       "        vertical-align: top;\n",
       "    }\n",
       "\n",
       "    .dataframe thead th {\n",
       "        text-align: right;\n",
       "    }\n",
       "</style>\n",
       "<table border=\"1\" class=\"dataframe\">\n",
       "  <thead>\n",
       "    <tr style=\"text-align: right;\">\n",
       "      <th></th>\n",
       "      <th>channel_id</th>\n",
       "      <th>channel_title</th>\n",
       "      <th>playlist_id</th>\n",
       "      <th>video_id</th>\n",
       "      <th>category_id</th>\n",
       "      <th>published_at</th>\n",
       "      <th>title</th>\n",
       "      <th>description</th>\n",
       "      <th>thumbnail</th>\n",
       "      <th>view_count</th>\n",
       "      <th>like_count</th>\n",
       "      <th>favorite_count</th>\n",
       "      <th>comment_count</th>\n",
       "      <th>tags</th>\n",
       "    </tr>\n",
       "  </thead>\n",
       "  <tbody>\n",
       "    <tr>\n",
       "      <th>0</th>\n",
       "      <td>UCb_MSoZWlQ8ooxaPBRR1xcQ</td>\n",
       "      <td>Tom</td>\n",
       "      <td>NaN</td>\n",
       "      <td>wiakg3_Dk14</td>\n",
       "      <td>1</td>\n",
       "      <td>2022-03-07T15:30:18Z</td>\n",
       "      <td>Nikita Mikhalkov talks about the current Russi...</td>\n",
       "      <td>The famous Russian film-maker Nikita Mikhalkov...</td>\n",
       "      <td>https://i.ytimg.com/vi/wiakg3_Dk14/default.jpg</td>\n",
       "      <td>25707.0</td>\n",
       "      <td>1041.0</td>\n",
       "      <td>0</td>\n",
       "      <td>660.0</td>\n",
       "      <td>NaN</td>\n",
       "    </tr>\n",
       "  </tbody>\n",
       "</table>\n",
       "</div>"
      ],
      "text/plain": [
       "                 channel_id channel_title  playlist_id     video_id  \\\n",
       "0  UCb_MSoZWlQ8ooxaPBRR1xcQ           Tom          NaN  wiakg3_Dk14   \n",
       "\n",
       "   category_id          published_at  \\\n",
       "0            1  2022-03-07T15:30:18Z   \n",
       "\n",
       "                                               title  \\\n",
       "0  Nikita Mikhalkov talks about the current Russi...   \n",
       "\n",
       "                                         description  \\\n",
       "0  The famous Russian film-maker Nikita Mikhalkov...   \n",
       "\n",
       "                                        thumbnail  view_count  like_count  \\\n",
       "0  https://i.ytimg.com/vi/wiakg3_Dk14/default.jpg     25707.0      1041.0   \n",
       "\n",
       "   favorite_count  comment_count tags  \n",
       "0               0          660.0  NaN  "
      ]
     },
     "execution_count": 5,
     "metadata": {},
     "output_type": "execute_result"
    }
   ],
   "source": [
    "videos_df.head(1)"
   ]
  },
  {
   "cell_type": "code",
   "execution_count": 6,
   "id": "0ba7ed38-75bc-41fb-a69a-9aded230069a",
   "metadata": {
    "tags": []
   },
   "outputs": [],
   "source": [
    "comments_df = pd.read_csv('../plots/comment_data_rus_ukr_war_2_2.csv', lineterminator='\\n')"
   ]
  },
  {
   "cell_type": "code",
   "execution_count": 7,
   "id": "f252a290-27a5-45d4-9bbd-88939aa820f7",
   "metadata": {
    "tags": []
   },
   "outputs": [
    {
     "data": {
      "text/plain": [
       "(3572619, 13)"
      ]
     },
     "execution_count": 7,
     "metadata": {},
     "output_type": "execute_result"
    }
   ],
   "source": [
    "comments_df.shape"
   ]
  },
  {
   "cell_type": "code",
   "execution_count": 8,
   "id": "ee6736bf-8aa7-445e-ad3e-142d27e0e77b",
   "metadata": {
    "tags": []
   },
   "outputs": [
    {
     "data": {
      "text/html": [
       "<div>\n",
       "<style scoped>\n",
       "    .dataframe tbody tr th:only-of-type {\n",
       "        vertical-align: middle;\n",
       "    }\n",
       "\n",
       "    .dataframe tbody tr th {\n",
       "        vertical-align: top;\n",
       "    }\n",
       "\n",
       "    .dataframe thead th {\n",
       "        text-align: right;\n",
       "    }\n",
       "</style>\n",
       "<table border=\"1\" class=\"dataframe\">\n",
       "  <thead>\n",
       "    <tr style=\"text-align: right;\">\n",
       "      <th></th>\n",
       "      <th>video_id</th>\n",
       "      <th>comment_id</th>\n",
       "      <th>parent_id</th>\n",
       "      <th>comment_text</th>\n",
       "      <th>author_name</th>\n",
       "      <th>author_channel_id</th>\n",
       "      <th>author_url</th>\n",
       "      <th>published_at</th>\n",
       "      <th>can_rate</th>\n",
       "      <th>can_reply</th>\n",
       "      <th>like_count</th>\n",
       "      <th>reply_count</th>\n",
       "      <th>is_public</th>\n",
       "    </tr>\n",
       "  </thead>\n",
       "  <tbody>\n",
       "    <tr>\n",
       "      <th>0</th>\n",
       "      <td>o1bvxj8iaGo</td>\n",
       "      <td>UgwSeCgWnr1y_wiCf6p4AaABAg</td>\n",
       "      <td>NaN</td>\n",
       "      <td>Be strong Ukraine. The world is with you. Dig ...</td>\n",
       "      <td>@noodles169</td>\n",
       "      <td>UCuse-_4QO6fip2Hjub8j24w</td>\n",
       "      <td>http://www.youtube.com/channel/UCuse-_4QO6fip2...</td>\n",
       "      <td>2022-02-25T14:23:10Z</td>\n",
       "      <td>True</td>\n",
       "      <td>True</td>\n",
       "      <td>3</td>\n",
       "      <td>0</td>\n",
       "      <td>True</td>\n",
       "    </tr>\n",
       "  </tbody>\n",
       "</table>\n",
       "</div>"
      ],
      "text/plain": [
       "      video_id                  comment_id parent_id  \\\n",
       "0  o1bvxj8iaGo  UgwSeCgWnr1y_wiCf6p4AaABAg       NaN   \n",
       "\n",
       "                                        comment_text  author_name  \\\n",
       "0  Be strong Ukraine. The world is with you. Dig ...  @noodles169   \n",
       "\n",
       "          author_channel_id  \\\n",
       "0  UCuse-_4QO6fip2Hjub8j24w   \n",
       "\n",
       "                                          author_url          published_at  \\\n",
       "0  http://www.youtube.com/channel/UCuse-_4QO6fip2...  2022-02-25T14:23:10Z   \n",
       "\n",
       "   can_rate  can_reply  like_count  reply_count  is_public  \n",
       "0      True       True           3            0       True  "
      ]
     },
     "execution_count": 8,
     "metadata": {},
     "output_type": "execute_result"
    }
   ],
   "source": [
    "comments_df.head(1)"
   ]
  },
  {
   "cell_type": "code",
   "execution_count": 9,
   "id": "1552e6a7-f1aa-4ea1-b215-e39351995ea3",
   "metadata": {
    "tags": []
   },
   "outputs": [],
   "source": [
    "# Merge the df on the basis of video_id\n",
    "merged_df = pd.merge(videos_df, comments_df, on='video_id')"
   ]
  },
  {
   "cell_type": "code",
   "execution_count": 10,
   "id": "06bb7afc-bdf5-47d6-a0e8-56c5335a652b",
   "metadata": {
    "tags": []
   },
   "outputs": [
    {
     "data": {
      "text/plain": [
       "(3572619, 26)"
      ]
     },
     "execution_count": 10,
     "metadata": {},
     "output_type": "execute_result"
    }
   ],
   "source": [
    "merged_df.shape"
   ]
  },
  {
   "cell_type": "code",
   "execution_count": 12,
   "id": "71d6065b-612c-4ea5-9e98-af0b20cbd72c",
   "metadata": {
    "tags": []
   },
   "outputs": [],
   "source": [
    "merged_df.rename(columns={'published_at_x': 'video_published_at', 'published_at_y': 'comment_published_at'}, inplace=True)"
   ]
  },
  {
   "cell_type": "code",
   "execution_count": 13,
   "id": "20e83c90-3c71-4610-96c9-7a40b0f1108f",
   "metadata": {
    "tags": []
   },
   "outputs": [
    {
     "data": {
      "text/html": [
       "<div>\n",
       "<style scoped>\n",
       "    .dataframe tbody tr th:only-of-type {\n",
       "        vertical-align: middle;\n",
       "    }\n",
       "\n",
       "    .dataframe tbody tr th {\n",
       "        vertical-align: top;\n",
       "    }\n",
       "\n",
       "    .dataframe thead th {\n",
       "        text-align: right;\n",
       "    }\n",
       "</style>\n",
       "<table border=\"1\" class=\"dataframe\">\n",
       "  <thead>\n",
       "    <tr style=\"text-align: right;\">\n",
       "      <th></th>\n",
       "      <th>channel_id</th>\n",
       "      <th>channel_title</th>\n",
       "      <th>playlist_id</th>\n",
       "      <th>video_id</th>\n",
       "      <th>category_id</th>\n",
       "      <th>video_published_at</th>\n",
       "      <th>title</th>\n",
       "      <th>description</th>\n",
       "      <th>thumbnail</th>\n",
       "      <th>view_count</th>\n",
       "      <th>...</th>\n",
       "      <th>comment_text</th>\n",
       "      <th>author_name</th>\n",
       "      <th>author_channel_id</th>\n",
       "      <th>author_url</th>\n",
       "      <th>comment_published_at</th>\n",
       "      <th>can_rate</th>\n",
       "      <th>can_reply</th>\n",
       "      <th>like_count_y</th>\n",
       "      <th>reply_count</th>\n",
       "      <th>is_public</th>\n",
       "    </tr>\n",
       "  </thead>\n",
       "  <tbody>\n",
       "    <tr>\n",
       "      <th>0</th>\n",
       "      <td>UCb_MSoZWlQ8ooxaPBRR1xcQ</td>\n",
       "      <td>Tom</td>\n",
       "      <td>NaN</td>\n",
       "      <td>wiakg3_Dk14</td>\n",
       "      <td>1</td>\n",
       "      <td>2022-03-07T15:30:18Z</td>\n",
       "      <td>Nikita Mikhalkov talks about the current Russi...</td>\n",
       "      <td>The famous Russian film-maker Nikita Mikhalkov...</td>\n",
       "      <td>https://i.ytimg.com/vi/wiakg3_Dk14/default.jpg</td>\n",
       "      <td>25707.0</td>\n",
       "      <td>...</td>\n",
       "      <td>I don&amp;#39;t have time to reply to all the comm...</td>\n",
       "      <td>@TomFilmChannel</td>\n",
       "      <td>UCb_MSoZWlQ8ooxaPBRR1xcQ</td>\n",
       "      <td>http://www.youtube.com/channel/UCb_MSoZWlQ8oox...</td>\n",
       "      <td>2022-03-22T15:11:25Z</td>\n",
       "      <td>True</td>\n",
       "      <td>True</td>\n",
       "      <td>22</td>\n",
       "      <td>23</td>\n",
       "      <td>True</td>\n",
       "    </tr>\n",
       "    <tr>\n",
       "      <th>1</th>\n",
       "      <td>UCb_MSoZWlQ8ooxaPBRR1xcQ</td>\n",
       "      <td>Tom</td>\n",
       "      <td>NaN</td>\n",
       "      <td>wiakg3_Dk14</td>\n",
       "      <td>1</td>\n",
       "      <td>2022-03-07T15:30:18Z</td>\n",
       "      <td>Nikita Mikhalkov talks about the current Russi...</td>\n",
       "      <td>The famous Russian film-maker Nikita Mikhalkov...</td>\n",
       "      <td>https://i.ytimg.com/vi/wiakg3_Dk14/default.jpg</td>\n",
       "      <td>25707.0</td>\n",
       "      <td>...</td>\n",
       "      <td>Solid logic hehe so we should expect every sel...</td>\n",
       "      <td>@radhuchristian8406</td>\n",
       "      <td>UCZN7i3LHJTu95NovFzludKQ</td>\n",
       "      <td>http://www.youtube.com/channel/UCZN7i3LHJTu95N...</td>\n",
       "      <td>2022-03-25T15:09:44Z</td>\n",
       "      <td>True</td>\n",
       "      <td>False</td>\n",
       "      <td>2</td>\n",
       "      <td>0</td>\n",
       "      <td>True</td>\n",
       "    </tr>\n",
       "    <tr>\n",
       "      <th>2</th>\n",
       "      <td>UCb_MSoZWlQ8ooxaPBRR1xcQ</td>\n",
       "      <td>Tom</td>\n",
       "      <td>NaN</td>\n",
       "      <td>wiakg3_Dk14</td>\n",
       "      <td>1</td>\n",
       "      <td>2022-03-07T15:30:18Z</td>\n",
       "      <td>Nikita Mikhalkov talks about the current Russi...</td>\n",
       "      <td>The famous Russian film-maker Nikita Mikhalkov...</td>\n",
       "      <td>https://i.ytimg.com/vi/wiakg3_Dk14/default.jpg</td>\n",
       "      <td>25707.0</td>\n",
       "      <td>...</td>\n",
       "      <td>@@radhuchristian8406 they are “separatists” fo...</td>\n",
       "      <td>@taliatut</td>\n",
       "      <td>UCGMRICWZ6pBCjaILvLp3Qlg</td>\n",
       "      <td>http://www.youtube.com/channel/UCGMRICWZ6pBCja...</td>\n",
       "      <td>2022-03-28T08:13:12Z</td>\n",
       "      <td>True</td>\n",
       "      <td>False</td>\n",
       "      <td>2</td>\n",
       "      <td>0</td>\n",
       "      <td>True</td>\n",
       "    </tr>\n",
       "    <tr>\n",
       "      <th>3</th>\n",
       "      <td>UCb_MSoZWlQ8ooxaPBRR1xcQ</td>\n",
       "      <td>Tom</td>\n",
       "      <td>NaN</td>\n",
       "      <td>wiakg3_Dk14</td>\n",
       "      <td>1</td>\n",
       "      <td>2022-03-07T15:30:18Z</td>\n",
       "      <td>Nikita Mikhalkov talks about the current Russi...</td>\n",
       "      <td>The famous Russian film-maker Nikita Mikhalkov...</td>\n",
       "      <td>https://i.ytimg.com/vi/wiakg3_Dk14/default.jpg</td>\n",
       "      <td>25707.0</td>\n",
       "      <td>...</td>\n",
       "      <td>@@taliatut NOTHING justifies the level of resp...</td>\n",
       "      <td>@radhuchristian8406</td>\n",
       "      <td>UCZN7i3LHJTu95NovFzludKQ</td>\n",
       "      <td>http://www.youtube.com/channel/UCZN7i3LHJTu95N...</td>\n",
       "      <td>2022-03-28T09:23:06Z</td>\n",
       "      <td>True</td>\n",
       "      <td>False</td>\n",
       "      <td>2</td>\n",
       "      <td>0</td>\n",
       "      <td>True</td>\n",
       "    </tr>\n",
       "    <tr>\n",
       "      <th>4</th>\n",
       "      <td>UCb_MSoZWlQ8ooxaPBRR1xcQ</td>\n",
       "      <td>Tom</td>\n",
       "      <td>NaN</td>\n",
       "      <td>wiakg3_Dk14</td>\n",
       "      <td>1</td>\n",
       "      <td>2022-03-07T15:30:18Z</td>\n",
       "      <td>Nikita Mikhalkov talks about the current Russi...</td>\n",
       "      <td>The famous Russian film-maker Nikita Mikhalkov...</td>\n",
       "      <td>https://i.ytimg.com/vi/wiakg3_Dk14/default.jpg</td>\n",
       "      <td>25707.0</td>\n",
       "      <td>...</td>\n",
       "      <td>Those slavic brothers should be encourage to N...</td>\n",
       "      <td>@radhuchristian8406</td>\n",
       "      <td>UCZN7i3LHJTu95NovFzludKQ</td>\n",
       "      <td>http://www.youtube.com/channel/UCZN7i3LHJTu95N...</td>\n",
       "      <td>2022-03-28T09:40:48Z</td>\n",
       "      <td>True</td>\n",
       "      <td>False</td>\n",
       "      <td>1</td>\n",
       "      <td>0</td>\n",
       "      <td>True</td>\n",
       "    </tr>\n",
       "  </tbody>\n",
       "</table>\n",
       "<p>5 rows × 26 columns</p>\n",
       "</div>"
      ],
      "text/plain": [
       "                 channel_id channel_title  playlist_id     video_id  \\\n",
       "0  UCb_MSoZWlQ8ooxaPBRR1xcQ           Tom          NaN  wiakg3_Dk14   \n",
       "1  UCb_MSoZWlQ8ooxaPBRR1xcQ           Tom          NaN  wiakg3_Dk14   \n",
       "2  UCb_MSoZWlQ8ooxaPBRR1xcQ           Tom          NaN  wiakg3_Dk14   \n",
       "3  UCb_MSoZWlQ8ooxaPBRR1xcQ           Tom          NaN  wiakg3_Dk14   \n",
       "4  UCb_MSoZWlQ8ooxaPBRR1xcQ           Tom          NaN  wiakg3_Dk14   \n",
       "\n",
       "   category_id    video_published_at  \\\n",
       "0            1  2022-03-07T15:30:18Z   \n",
       "1            1  2022-03-07T15:30:18Z   \n",
       "2            1  2022-03-07T15:30:18Z   \n",
       "3            1  2022-03-07T15:30:18Z   \n",
       "4            1  2022-03-07T15:30:18Z   \n",
       "\n",
       "                                               title  \\\n",
       "0  Nikita Mikhalkov talks about the current Russi...   \n",
       "1  Nikita Mikhalkov talks about the current Russi...   \n",
       "2  Nikita Mikhalkov talks about the current Russi...   \n",
       "3  Nikita Mikhalkov talks about the current Russi...   \n",
       "4  Nikita Mikhalkov talks about the current Russi...   \n",
       "\n",
       "                                         description  \\\n",
       "0  The famous Russian film-maker Nikita Mikhalkov...   \n",
       "1  The famous Russian film-maker Nikita Mikhalkov...   \n",
       "2  The famous Russian film-maker Nikita Mikhalkov...   \n",
       "3  The famous Russian film-maker Nikita Mikhalkov...   \n",
       "4  The famous Russian film-maker Nikita Mikhalkov...   \n",
       "\n",
       "                                        thumbnail  view_count  ...  \\\n",
       "0  https://i.ytimg.com/vi/wiakg3_Dk14/default.jpg     25707.0  ...   \n",
       "1  https://i.ytimg.com/vi/wiakg3_Dk14/default.jpg     25707.0  ...   \n",
       "2  https://i.ytimg.com/vi/wiakg3_Dk14/default.jpg     25707.0  ...   \n",
       "3  https://i.ytimg.com/vi/wiakg3_Dk14/default.jpg     25707.0  ...   \n",
       "4  https://i.ytimg.com/vi/wiakg3_Dk14/default.jpg     25707.0  ...   \n",
       "\n",
       "                                        comment_text          author_name  \\\n",
       "0  I don&#39;t have time to reply to all the comm...      @TomFilmChannel   \n",
       "1  Solid logic hehe so we should expect every sel...  @radhuchristian8406   \n",
       "2  @@radhuchristian8406 they are “separatists” fo...            @taliatut   \n",
       "3  @@taliatut NOTHING justifies the level of resp...  @radhuchristian8406   \n",
       "4  Those slavic brothers should be encourage to N...  @radhuchristian8406   \n",
       "\n",
       "          author_channel_id  \\\n",
       "0  UCb_MSoZWlQ8ooxaPBRR1xcQ   \n",
       "1  UCZN7i3LHJTu95NovFzludKQ   \n",
       "2  UCGMRICWZ6pBCjaILvLp3Qlg   \n",
       "3  UCZN7i3LHJTu95NovFzludKQ   \n",
       "4  UCZN7i3LHJTu95NovFzludKQ   \n",
       "\n",
       "                                          author_url  comment_published_at  \\\n",
       "0  http://www.youtube.com/channel/UCb_MSoZWlQ8oox...  2022-03-22T15:11:25Z   \n",
       "1  http://www.youtube.com/channel/UCZN7i3LHJTu95N...  2022-03-25T15:09:44Z   \n",
       "2  http://www.youtube.com/channel/UCGMRICWZ6pBCja...  2022-03-28T08:13:12Z   \n",
       "3  http://www.youtube.com/channel/UCZN7i3LHJTu95N...  2022-03-28T09:23:06Z   \n",
       "4  http://www.youtube.com/channel/UCZN7i3LHJTu95N...  2022-03-28T09:40:48Z   \n",
       "\n",
       "  can_rate can_reply like_count_y reply_count is_public  \n",
       "0     True      True           22          23      True  \n",
       "1     True     False            2           0      True  \n",
       "2     True     False            2           0      True  \n",
       "3     True     False            2           0      True  \n",
       "4     True     False            1           0      True  \n",
       "\n",
       "[5 rows x 26 columns]"
      ]
     },
     "execution_count": 13,
     "metadata": {},
     "output_type": "execute_result"
    }
   ],
   "source": [
    "merged_df.head()"
   ]
  },
  {
   "cell_type": "code",
   "execution_count": 15,
   "id": "84097591-b429-4967-9cc8-a01c408ab813",
   "metadata": {
    "tags": []
   },
   "outputs": [],
   "source": [
    "merged_df['time_difference'] = pd.to_datetime(merged_df['comment_published_at']) - pd.to_datetime(merged_df['video_published_at'])"
   ]
  },
  {
   "cell_type": "code",
   "execution_count": null,
   "id": "d5cd0dbc-c625-4730-9497-5c7d555c814b",
   "metadata": {},
   "outputs": [],
   "source": []
  },
  {
   "cell_type": "code",
   "execution_count": null,
   "id": "052a2594-a90e-418b-98af-0ccfc73bb478",
   "metadata": {},
   "outputs": [],
   "source": []
  },
  {
   "cell_type": "code",
   "execution_count": 30,
   "id": "42fc1844-0172-46eb-9e54-9693e03a1aa2",
   "metadata": {
    "tags": []
   },
   "outputs": [],
   "source": [
    "# Filter comments with time_difference less than 15 minutes\n",
    "comments_within_15_minutes = merged_df[merged_df['time_difference'] < pd.Timedelta(minutes=15)]"
   ]
  },
  {
   "cell_type": "code",
   "execution_count": 31,
   "id": "644e2d00-6efb-460d-82e8-440ec35fbdd4",
   "metadata": {
    "tags": []
   },
   "outputs": [
    {
     "data": {
      "text/plain": [
       "(70459, 27)"
      ]
     },
     "execution_count": 31,
     "metadata": {},
     "output_type": "execute_result"
    }
   ],
   "source": [
    "comments_within_15_minutes.shape"
   ]
  },
  {
   "cell_type": "code",
   "execution_count": 32,
   "id": "563a8e78-9b45-4ee9-9207-54b81f5967f8",
   "metadata": {
    "tags": []
   },
   "outputs": [],
   "source": [
    "# Saving the data for comments within 15 minutes to a separate CSV file\n",
    "comments_within_15_minutes.to_csv('comments_within_15_minutes.csv', index=False)"
   ]
  },
  {
   "cell_type": "code",
   "execution_count": null,
   "id": "de5e4992-dfae-4673-9125-82006461e014",
   "metadata": {},
   "outputs": [],
   "source": []
  },
  {
   "cell_type": "code",
   "execution_count": 36,
   "id": "0d044260-0650-4671-8598-2e653eef0496",
   "metadata": {
    "tags": []
   },
   "outputs": [],
   "source": [
    "# Filter comments with time_difference less than 5 minutes\n",
    "comments_within_5_minutes = merged_df[merged_df['time_difference'] < pd.Timedelta(minutes=5)]"
   ]
  },
  {
   "cell_type": "code",
   "execution_count": 37,
   "id": "d0ace749-c039-405a-9f92-ca1fb2b0bc67",
   "metadata": {
    "tags": []
   },
   "outputs": [
    {
     "data": {
      "text/plain": [
       "(23556, 27)"
      ]
     },
     "execution_count": 37,
     "metadata": {},
     "output_type": "execute_result"
    }
   ],
   "source": [
    "comments_within_5_minutes.shape"
   ]
  },
  {
   "cell_type": "code",
   "execution_count": 38,
   "id": "bc01bd18-6e03-45db-bda0-e12bf4be3ca2",
   "metadata": {
    "tags": []
   },
   "outputs": [],
   "source": [
    "# Saving the data for comments within 5 minutes to a separate CSV file\n",
    "comments_within_5_minutes.to_csv('comments_within_5_minutes.csv', index=False)"
   ]
  },
  {
   "cell_type": "code",
   "execution_count": null,
   "id": "3c6e9309-4d04-4fca-980c-8df95cb1097e",
   "metadata": {},
   "outputs": [],
   "source": []
  },
  {
   "cell_type": "code",
   "execution_count": 43,
   "id": "da618869-dff0-4de6-8d2f-81fcd33847d6",
   "metadata": {
    "tags": []
   },
   "outputs": [],
   "source": [
    "# Filter comments with time_difference less than 2 minutes\n",
    "comments_within_2_minutes = merged_df[merged_df['time_difference'] < pd.Timedelta(minutes=2)]"
   ]
  },
  {
   "cell_type": "code",
   "execution_count": 44,
   "id": "425fa037-5bda-40d8-81ef-0c5f3e463e23",
   "metadata": {
    "tags": []
   },
   "outputs": [
    {
     "data": {
      "text/plain": [
       "(11363, 27)"
      ]
     },
     "execution_count": 44,
     "metadata": {},
     "output_type": "execute_result"
    }
   ],
   "source": [
    "comments_within_2_minutes.shape"
   ]
  },
  {
   "cell_type": "code",
   "execution_count": 45,
   "id": "0ec36f27-2b6d-4a17-a847-880bede7cc92",
   "metadata": {
    "tags": []
   },
   "outputs": [],
   "source": [
    "# Saving the data for comments within 3 minutes to a separate CSV file\n",
    "comments_within_2_minutes.to_csv('comments_within_2_minutes.csv', index=False)"
   ]
  },
  {
   "cell_type": "code",
   "execution_count": 46,
   "id": "6839d5b2-04ea-49fd-b734-962cee8ab9af",
   "metadata": {
    "tags": []
   },
   "outputs": [
    {
     "data": {
      "text/plain": [
       "Index(['channel_id', 'channel_title', 'playlist_id', 'video_id', 'category_id',\n",
       "       'video_published_at', 'title', 'description', 'thumbnail', 'view_count',\n",
       "       'like_count_x', 'favorite_count', 'comment_count', 'tags', 'comment_id',\n",
       "       'parent_id', 'comment_text', 'author_name', 'author_channel_id',\n",
       "       'author_url', 'comment_published_at', 'can_rate', 'can_reply',\n",
       "       'like_count_y', 'reply_count', 'is_public', 'time_difference'],\n",
       "      dtype='object')"
      ]
     },
     "execution_count": 46,
     "metadata": {},
     "output_type": "execute_result"
    }
   ],
   "source": [
    "comments_within_2_minutes.columns"
   ]
  },
  {
   "cell_type": "code",
   "execution_count": 48,
   "id": "d89fff1d-2905-40cf-bb65-7f3a1b923cd6",
   "metadata": {
    "tags": []
   },
   "outputs": [
    {
     "name": "stdout",
     "output_type": "stream",
     "text": [
      "<class 'pandas.core.frame.DataFrame'>\n",
      "Index: 11363 entries, 1372 to 3571042\n",
      "Data columns (total 27 columns):\n",
      " #   Column                Non-Null Count  Dtype          \n",
      "---  ------                --------------  -----          \n",
      " 0   channel_id            11363 non-null  object         \n",
      " 1   channel_title         11363 non-null  object         \n",
      " 2   playlist_id           0 non-null      float64        \n",
      " 3   video_id              11363 non-null  object         \n",
      " 4   category_id           11363 non-null  int64          \n",
      " 5   video_published_at    11363 non-null  object         \n",
      " 6   title                 11363 non-null  object         \n",
      " 7   description           11362 non-null  object         \n",
      " 8   thumbnail             11363 non-null  object         \n",
      " 9   view_count            11363 non-null  float64        \n",
      " 10  like_count_x          11341 non-null  float64        \n",
      " 11  favorite_count        11363 non-null  int64          \n",
      " 12  comment_count         11363 non-null  float64        \n",
      " 13  tags                  9797 non-null   object         \n",
      " 14  comment_id            11363 non-null  object         \n",
      " 15  parent_id             744 non-null    object         \n",
      " 16  comment_text          11363 non-null  object         \n",
      " 17  author_name           11363 non-null  object         \n",
      " 18  author_channel_id     11363 non-null  object         \n",
      " 19  author_url            11363 non-null  object         \n",
      " 20  comment_published_at  11363 non-null  object         \n",
      " 21  can_rate              11363 non-null  bool           \n",
      " 22  can_reply             11363 non-null  bool           \n",
      " 23  like_count_y          11363 non-null  int64          \n",
      " 24  reply_count           11363 non-null  int64          \n",
      " 25  is_public             11363 non-null  bool           \n",
      " 26  time_difference       11363 non-null  timedelta64[ns]\n",
      "dtypes: bool(3), float64(4), int64(4), object(15), timedelta64[ns](1)\n",
      "memory usage: 2.2+ MB\n"
     ]
    }
   ],
   "source": [
    "comments_within_2_minutes.info()"
   ]
  },
  {
   "cell_type": "code",
   "execution_count": null,
   "id": "643125cd-736e-43ce-9fb5-3ac41ce060da",
   "metadata": {},
   "outputs": [],
   "source": []
  }
 ],
 "metadata": {
  "environment": {
   "kernel": "python3",
   "name": "common-cpu.m113",
   "type": "gcloud",
   "uri": "gcr.io/deeplearning-platform-release/base-cpu:m113"
  },
  "kernelspec": {
   "display_name": "Python 3",
   "language": "python",
   "name": "python3"
  },
  "language_info": {
   "codemirror_mode": {
    "name": "ipython",
    "version": 3
   },
   "file_extension": ".py",
   "mimetype": "text/x-python",
   "name": "python",
   "nbconvert_exporter": "python",
   "pygments_lexer": "ipython3",
   "version": "3.10.13"
  }
 },
 "nbformat": 4,
 "nbformat_minor": 5
}
